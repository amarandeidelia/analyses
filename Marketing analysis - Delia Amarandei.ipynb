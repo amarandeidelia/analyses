{
 "cells": [
  {
   "cell_type": "markdown",
   "metadata": {},
   "source": [
    "# Marketing analysis\n",
    "\n",
    "\n",
    "\n",
    "## Table of Contents\n",
    "- [Introduction](#intro)\n",
    "- [Data wrangling](#data_wrangling)\n",
    "- [Part I: Channels overview](#channels_overview)\n",
    "- [Part II: TV spending impact](#tv_spending)\n",
    "- [Part III: Budget allocation](#budget_allocation)\n",
    "- [Conclusions](#conclusions)\n",
    "\n",
    "<a id='intro'></a>\n",
    "### Introduction\n",
    "\n",
    "##### Marketing Analysis Task\n",
    "The analysis will cover the following topics:\n",
    "* Part I: Overview of the channels and how they contribute to user acquisition\n",
    "* Part II: Estimating the impact of doubling TV spending\n",
    "* Part III: Assumptions for the channel touchpoint cost and recommendations on how to change the budget allocation to maximize user acquisition with a constant budget\n",
    "\n",
    "##### Data\n",
    "`tv_campaigns.csv`\n",
    "- a csv with dates on which heavy TV spend was active (assume equal spend on each day)\n",
    "\n",
    "`user_signup_data.csv`\n",
    "- a csv with the userid, signup date & binary variables indicating whether\n",
    "  the user interacted with a given marketing channel prior to signup\n",
    "\n",
    "\n",
    "<a id='data_wrangling'></a>\n",
    "### Data wrangling"
   ]
  },
  {
   "cell_type": "code",
   "execution_count": 1,
   "metadata": {},
   "outputs": [],
   "source": [
    "# Import required libraries\n",
    "import pandas as pd\n",
    "import numpy as np\n",
    "import matplotlib.pyplot as plt\n",
    "import seaborn as sns\n",
    "import statsmodels.api as sm\n",
    "%matplotlib inline"
   ]
  },
  {
   "cell_type": "code",
   "execution_count": 2,
   "metadata": {},
   "outputs": [
    {
     "data": {
      "text/html": [
       "<div>\n",
       "<style scoped>\n",
       "    .dataframe tbody tr th:only-of-type {\n",
       "        vertical-align: middle;\n",
       "    }\n",
       "\n",
       "    .dataframe tbody tr th {\n",
       "        vertical-align: top;\n",
       "    }\n",
       "\n",
       "    .dataframe thead th {\n",
       "        text-align: right;\n",
       "    }\n",
       "</style>\n",
       "<table border=\"1\" class=\"dataframe\">\n",
       "  <thead>\n",
       "    <tr style=\"text-align: right;\">\n",
       "      <th></th>\n",
       "      <th>userid</th>\n",
       "      <th>cpc</th>\n",
       "      <th>organic</th>\n",
       "      <th>affiliate</th>\n",
       "      <th>social</th>\n",
       "      <th>signup_date</th>\n",
       "    </tr>\n",
       "  </thead>\n",
       "  <tbody>\n",
       "    <tr>\n",
       "      <th>0</th>\n",
       "      <td>e0912256-b48a-45c0-afec-23350d341abd</td>\n",
       "      <td>1</td>\n",
       "      <td>0</td>\n",
       "      <td>0</td>\n",
       "      <td>1</td>\n",
       "      <td>2017-02-01</td>\n",
       "    </tr>\n",
       "    <tr>\n",
       "      <th>1</th>\n",
       "      <td>321c18f1-c58e-488d-a60a-462dfc9d38aa</td>\n",
       "      <td>1</td>\n",
       "      <td>0</td>\n",
       "      <td>1</td>\n",
       "      <td>0</td>\n",
       "      <td>2017-01-10</td>\n",
       "    </tr>\n",
       "    <tr>\n",
       "      <th>2</th>\n",
       "      <td>3d03c163-d14b-49da-873a-a54cc3b400e3</td>\n",
       "      <td>0</td>\n",
       "      <td>0</td>\n",
       "      <td>1</td>\n",
       "      <td>1</td>\n",
       "      <td>2017-03-24</td>\n",
       "    </tr>\n",
       "    <tr>\n",
       "      <th>3</th>\n",
       "      <td>3acb5a84-4375-405b-9a8b-bfb8979ab9bc</td>\n",
       "      <td>1</td>\n",
       "      <td>0</td>\n",
       "      <td>0</td>\n",
       "      <td>0</td>\n",
       "      <td>2017-03-06</td>\n",
       "    </tr>\n",
       "    <tr>\n",
       "      <th>4</th>\n",
       "      <td>1b488764-6874-4483-8e70-815feb07b154</td>\n",
       "      <td>1</td>\n",
       "      <td>0</td>\n",
       "      <td>0</td>\n",
       "      <td>0</td>\n",
       "      <td>2017-03-03</td>\n",
       "    </tr>\n",
       "  </tbody>\n",
       "</table>\n",
       "</div>"
      ],
      "text/plain": [
       "                                 userid  cpc  organic  affiliate  social  \\\n",
       "0  e0912256-b48a-45c0-afec-23350d341abd    1        0          0       1   \n",
       "1  321c18f1-c58e-488d-a60a-462dfc9d38aa    1        0          1       0   \n",
       "2  3d03c163-d14b-49da-873a-a54cc3b400e3    0        0          1       1   \n",
       "3  3acb5a84-4375-405b-9a8b-bfb8979ab9bc    1        0          0       0   \n",
       "4  1b488764-6874-4483-8e70-815feb07b154    1        0          0       0   \n",
       "\n",
       "  signup_date  \n",
       "0  2017-02-01  \n",
       "1  2017-01-10  \n",
       "2  2017-03-24  \n",
       "3  2017-03-06  \n",
       "4  2017-03-03  "
      ]
     },
     "execution_count": 2,
     "metadata": {},
     "output_type": "execute_result"
    }
   ],
   "source": [
    "# Create a dataframe from the user_signup_data.csv file and check the first 5 rows\n",
    "df_user = pd.read_csv('user_signup_data.csv')\n",
    "df_user.head()"
   ]
  },
  {
   "cell_type": "code",
   "execution_count": 3,
   "metadata": {},
   "outputs": [
    {
     "name": "stdout",
     "output_type": "stream",
     "text": [
      "<class 'pandas.core.frame.DataFrame'>\n",
      "RangeIndex: 5000 entries, 0 to 4999\n",
      "Data columns (total 6 columns):\n",
      "userid         5000 non-null object\n",
      "cpc            5000 non-null int64\n",
      "organic        5000 non-null int64\n",
      "affiliate      5000 non-null int64\n",
      "social         5000 non-null int64\n",
      "signup_date    5000 non-null object\n",
      "dtypes: int64(4), object(2)\n",
      "memory usage: 234.5+ KB\n"
     ]
    }
   ],
   "source": [
    "# Check the quality of data, if there are null entires\n",
    "df_user.info()"
   ]
  },
  {
   "cell_type": "code",
   "execution_count": 4,
   "metadata": {
    "scrolled": true
   },
   "outputs": [
    {
     "data": {
      "text/plain": [
       "userid         object\n",
       "cpc             int64\n",
       "organic         int64\n",
       "affiliate       int64\n",
       "social          int64\n",
       "signup_date    object\n",
       "dtype: object"
      ]
     },
     "execution_count": 4,
     "metadata": {},
     "output_type": "execute_result"
    }
   ],
   "source": [
    "# Check the data types\n",
    "df_user.dtypes"
   ]
  },
  {
   "cell_type": "code",
   "execution_count": 5,
   "metadata": {},
   "outputs": [
    {
     "data": {
      "text/html": [
       "<div>\n",
       "<style scoped>\n",
       "    .dataframe tbody tr th:only-of-type {\n",
       "        vertical-align: middle;\n",
       "    }\n",
       "\n",
       "    .dataframe tbody tr th {\n",
       "        vertical-align: top;\n",
       "    }\n",
       "\n",
       "    .dataframe thead th {\n",
       "        text-align: right;\n",
       "    }\n",
       "</style>\n",
       "<table border=\"1\" class=\"dataframe\">\n",
       "  <thead>\n",
       "    <tr style=\"text-align: right;\">\n",
       "      <th></th>\n",
       "      <th>date</th>\n",
       "      <th>campaign</th>\n",
       "    </tr>\n",
       "  </thead>\n",
       "  <tbody>\n",
       "    <tr>\n",
       "      <th>0</th>\n",
       "      <td>2017-01-24</td>\n",
       "      <td>tv campaign</td>\n",
       "    </tr>\n",
       "    <tr>\n",
       "      <th>1</th>\n",
       "      <td>2017-02-26</td>\n",
       "      <td>tv campaign</td>\n",
       "    </tr>\n",
       "    <tr>\n",
       "      <th>2</th>\n",
       "      <td>2017-03-26</td>\n",
       "      <td>tv campaign</td>\n",
       "    </tr>\n",
       "    <tr>\n",
       "      <th>3</th>\n",
       "      <td>2017-03-05</td>\n",
       "      <td>tv campaign</td>\n",
       "    </tr>\n",
       "    <tr>\n",
       "      <th>4</th>\n",
       "      <td>2017-03-14</td>\n",
       "      <td>tv campaign</td>\n",
       "    </tr>\n",
       "    <tr>\n",
       "      <th>5</th>\n",
       "      <td>2017-01-01</td>\n",
       "      <td>tv campaign</td>\n",
       "    </tr>\n",
       "    <tr>\n",
       "      <th>6</th>\n",
       "      <td>2017-02-08</td>\n",
       "      <td>tv campaign</td>\n",
       "    </tr>\n",
       "    <tr>\n",
       "      <th>7</th>\n",
       "      <td>2017-02-09</td>\n",
       "      <td>tv campaign</td>\n",
       "    </tr>\n",
       "  </tbody>\n",
       "</table>\n",
       "</div>"
      ],
      "text/plain": [
       "         date     campaign\n",
       "0  2017-01-24  tv campaign\n",
       "1  2017-02-26  tv campaign\n",
       "2  2017-03-26  tv campaign\n",
       "3  2017-03-05  tv campaign\n",
       "4  2017-03-14  tv campaign\n",
       "5  2017-01-01  tv campaign\n",
       "6  2017-02-08  tv campaign\n",
       "7  2017-02-09  tv campaign"
      ]
     },
     "execution_count": 5,
     "metadata": {},
     "output_type": "execute_result"
    }
   ],
   "source": [
    "# Create a dataframe from the tv_campaigns.csv file \n",
    "df_camp = pd.read_csv('tv_campaigns.csv')\n",
    "df_camp.head(10)"
   ]
  },
  {
   "cell_type": "code",
   "execution_count": 6,
   "metadata": {},
   "outputs": [
    {
     "data": {
      "text/html": [
       "<div>\n",
       "<style scoped>\n",
       "    .dataframe tbody tr th:only-of-type {\n",
       "        vertical-align: middle;\n",
       "    }\n",
       "\n",
       "    .dataframe tbody tr th {\n",
       "        vertical-align: top;\n",
       "    }\n",
       "\n",
       "    .dataframe thead th {\n",
       "        text-align: right;\n",
       "    }\n",
       "</style>\n",
       "<table border=\"1\" class=\"dataframe\">\n",
       "  <thead>\n",
       "    <tr style=\"text-align: right;\">\n",
       "      <th></th>\n",
       "      <th>userid</th>\n",
       "      <th>cpc</th>\n",
       "      <th>organic</th>\n",
       "      <th>affiliate</th>\n",
       "      <th>social</th>\n",
       "      <th>signup_date</th>\n",
       "      <th>campaign</th>\n",
       "    </tr>\n",
       "  </thead>\n",
       "  <tbody>\n",
       "    <tr>\n",
       "      <th>0</th>\n",
       "      <td>e0912256-b48a-45c0-afec-23350d341abd</td>\n",
       "      <td>1</td>\n",
       "      <td>0</td>\n",
       "      <td>0</td>\n",
       "      <td>1</td>\n",
       "      <td>2017-02-01</td>\n",
       "      <td>NaN</td>\n",
       "    </tr>\n",
       "    <tr>\n",
       "      <th>1</th>\n",
       "      <td>321c18f1-c58e-488d-a60a-462dfc9d38aa</td>\n",
       "      <td>1</td>\n",
       "      <td>0</td>\n",
       "      <td>1</td>\n",
       "      <td>0</td>\n",
       "      <td>2017-01-10</td>\n",
       "      <td>NaN</td>\n",
       "    </tr>\n",
       "    <tr>\n",
       "      <th>2</th>\n",
       "      <td>3d03c163-d14b-49da-873a-a54cc3b400e3</td>\n",
       "      <td>0</td>\n",
       "      <td>0</td>\n",
       "      <td>1</td>\n",
       "      <td>1</td>\n",
       "      <td>2017-03-24</td>\n",
       "      <td>NaN</td>\n",
       "    </tr>\n",
       "    <tr>\n",
       "      <th>3</th>\n",
       "      <td>3acb5a84-4375-405b-9a8b-bfb8979ab9bc</td>\n",
       "      <td>1</td>\n",
       "      <td>0</td>\n",
       "      <td>0</td>\n",
       "      <td>0</td>\n",
       "      <td>2017-03-06</td>\n",
       "      <td>NaN</td>\n",
       "    </tr>\n",
       "    <tr>\n",
       "      <th>4</th>\n",
       "      <td>1b488764-6874-4483-8e70-815feb07b154</td>\n",
       "      <td>1</td>\n",
       "      <td>0</td>\n",
       "      <td>0</td>\n",
       "      <td>0</td>\n",
       "      <td>2017-03-03</td>\n",
       "      <td>NaN</td>\n",
       "    </tr>\n",
       "  </tbody>\n",
       "</table>\n",
       "</div>"
      ],
      "text/plain": [
       "                                 userid  cpc  organic  affiliate  social  \\\n",
       "0  e0912256-b48a-45c0-afec-23350d341abd    1        0          0       1   \n",
       "1  321c18f1-c58e-488d-a60a-462dfc9d38aa    1        0          1       0   \n",
       "2  3d03c163-d14b-49da-873a-a54cc3b400e3    0        0          1       1   \n",
       "3  3acb5a84-4375-405b-9a8b-bfb8979ab9bc    1        0          0       0   \n",
       "4  1b488764-6874-4483-8e70-815feb07b154    1        0          0       0   \n",
       "\n",
       "  signup_date campaign  \n",
       "0  2017-02-01      NaN  \n",
       "1  2017-01-10      NaN  \n",
       "2  2017-03-24      NaN  \n",
       "3  2017-03-06      NaN  \n",
       "4  2017-03-03      NaN  "
      ]
     },
     "execution_count": 6,
     "metadata": {},
     "output_type": "execute_result"
    }
   ],
   "source": [
    "# Create a new dataframe based on the previous two, joined by signup_date and date\n",
    "df = df_user.merge(df_camp, how = 'left', left_on = 'signup_date', right_on = 'date').\\\n",
    "   drop(columns = ['date'])\n",
    "df.head()"
   ]
  },
  {
   "cell_type": "code",
   "execution_count": 7,
   "metadata": {
    "scrolled": true
   },
   "outputs": [
    {
     "data": {
      "text/html": [
       "<div>\n",
       "<style scoped>\n",
       "    .dataframe tbody tr th:only-of-type {\n",
       "        vertical-align: middle;\n",
       "    }\n",
       "\n",
       "    .dataframe tbody tr th {\n",
       "        vertical-align: top;\n",
       "    }\n",
       "\n",
       "    .dataframe thead th {\n",
       "        text-align: right;\n",
       "    }\n",
       "</style>\n",
       "<table border=\"1\" class=\"dataframe\">\n",
       "  <thead>\n",
       "    <tr style=\"text-align: right;\">\n",
       "      <th></th>\n",
       "      <th>userid</th>\n",
       "      <th>cpc</th>\n",
       "      <th>organic</th>\n",
       "      <th>affiliate</th>\n",
       "      <th>social</th>\n",
       "      <th>signup_date</th>\n",
       "      <th>campaign</th>\n",
       "      <th>is_tv_campaign</th>\n",
       "    </tr>\n",
       "  </thead>\n",
       "  <tbody>\n",
       "    <tr>\n",
       "      <th>0</th>\n",
       "      <td>e0912256-b48a-45c0-afec-23350d341abd</td>\n",
       "      <td>1</td>\n",
       "      <td>0</td>\n",
       "      <td>0</td>\n",
       "      <td>1</td>\n",
       "      <td>2017-02-01</td>\n",
       "      <td>no tv campaign</td>\n",
       "      <td>0</td>\n",
       "    </tr>\n",
       "    <tr>\n",
       "      <th>1</th>\n",
       "      <td>321c18f1-c58e-488d-a60a-462dfc9d38aa</td>\n",
       "      <td>1</td>\n",
       "      <td>0</td>\n",
       "      <td>1</td>\n",
       "      <td>0</td>\n",
       "      <td>2017-01-10</td>\n",
       "      <td>no tv campaign</td>\n",
       "      <td>0</td>\n",
       "    </tr>\n",
       "    <tr>\n",
       "      <th>2</th>\n",
       "      <td>3d03c163-d14b-49da-873a-a54cc3b400e3</td>\n",
       "      <td>0</td>\n",
       "      <td>0</td>\n",
       "      <td>1</td>\n",
       "      <td>1</td>\n",
       "      <td>2017-03-24</td>\n",
       "      <td>no tv campaign</td>\n",
       "      <td>0</td>\n",
       "    </tr>\n",
       "    <tr>\n",
       "      <th>3</th>\n",
       "      <td>3acb5a84-4375-405b-9a8b-bfb8979ab9bc</td>\n",
       "      <td>1</td>\n",
       "      <td>0</td>\n",
       "      <td>0</td>\n",
       "      <td>0</td>\n",
       "      <td>2017-03-06</td>\n",
       "      <td>no tv campaign</td>\n",
       "      <td>0</td>\n",
       "    </tr>\n",
       "    <tr>\n",
       "      <th>4</th>\n",
       "      <td>1b488764-6874-4483-8e70-815feb07b154</td>\n",
       "      <td>1</td>\n",
       "      <td>0</td>\n",
       "      <td>0</td>\n",
       "      <td>0</td>\n",
       "      <td>2017-03-03</td>\n",
       "      <td>no tv campaign</td>\n",
       "      <td>0</td>\n",
       "    </tr>\n",
       "  </tbody>\n",
       "</table>\n",
       "</div>"
      ],
      "text/plain": [
       "                                 userid  cpc  organic  affiliate  social  \\\n",
       "0  e0912256-b48a-45c0-afec-23350d341abd    1        0          0       1   \n",
       "1  321c18f1-c58e-488d-a60a-462dfc9d38aa    1        0          1       0   \n",
       "2  3d03c163-d14b-49da-873a-a54cc3b400e3    0        0          1       1   \n",
       "3  3acb5a84-4375-405b-9a8b-bfb8979ab9bc    1        0          0       0   \n",
       "4  1b488764-6874-4483-8e70-815feb07b154    1        0          0       0   \n",
       "\n",
       "  signup_date        campaign  is_tv_campaign  \n",
       "0  2017-02-01  no tv campaign               0  \n",
       "1  2017-01-10  no tv campaign               0  \n",
       "2  2017-03-24  no tv campaign               0  \n",
       "3  2017-03-06  no tv campaign               0  \n",
       "4  2017-03-03  no tv campaign               0  "
      ]
     },
     "execution_count": 7,
     "metadata": {},
     "output_type": "execute_result"
    }
   ],
   "source": [
    "# Replace in column campaign null values with 0 and 'tv campaign' with 1\n",
    "df['is_tv_campaign'] = (df['campaign'] == 'tv campaign').astype('int')\n",
    "df = df.replace(np.nan, 'no tv campaign', regex=True)\n",
    "df.head()"
   ]
  },
  {
   "cell_type": "code",
   "execution_count": 8,
   "metadata": {
    "scrolled": true
   },
   "outputs": [
    {
     "name": "stdout",
     "output_type": "stream",
     "text": [
      "<class 'pandas.core.frame.DataFrame'>\n",
      "Int64Index: 5000 entries, 0 to 4999\n",
      "Data columns (total 8 columns):\n",
      "userid            5000 non-null object\n",
      "cpc               5000 non-null int64\n",
      "organic           5000 non-null int64\n",
      "affiliate         5000 non-null int64\n",
      "social            5000 non-null int64\n",
      "signup_date       5000 non-null datetime64[ns]\n",
      "campaign          5000 non-null object\n",
      "is_tv_campaign    5000 non-null int64\n",
      "dtypes: datetime64[ns](1), int64(5), object(2)\n",
      "memory usage: 351.6+ KB\n"
     ]
    }
   ],
   "source": [
    "# Convert signup_date to datetime\n",
    "df['signup_date'] = pd.to_datetime(df['signup_date'])\n",
    "df.info()"
   ]
  },
  {
   "cell_type": "code",
   "execution_count": 9,
   "metadata": {},
   "outputs": [
    {
     "data": {
      "text/html": [
       "<div>\n",
       "<style scoped>\n",
       "    .dataframe tbody tr th:only-of-type {\n",
       "        vertical-align: middle;\n",
       "    }\n",
       "\n",
       "    .dataframe tbody tr th {\n",
       "        vertical-align: top;\n",
       "    }\n",
       "\n",
       "    .dataframe thead th {\n",
       "        text-align: right;\n",
       "    }\n",
       "</style>\n",
       "<table border=\"1\" class=\"dataframe\">\n",
       "  <thead>\n",
       "    <tr style=\"text-align: right;\">\n",
       "      <th></th>\n",
       "      <th>cpc</th>\n",
       "      <th>organic</th>\n",
       "      <th>affiliate</th>\n",
       "      <th>social</th>\n",
       "      <th>is_tv_campaign</th>\n",
       "    </tr>\n",
       "  </thead>\n",
       "  <tbody>\n",
       "    <tr>\n",
       "      <th>cpc</th>\n",
       "      <td>1.000000</td>\n",
       "      <td>-0.001533</td>\n",
       "      <td>-0.567837</td>\n",
       "      <td>-0.175666</td>\n",
       "      <td>0.011704</td>\n",
       "    </tr>\n",
       "    <tr>\n",
       "      <th>organic</th>\n",
       "      <td>-0.001533</td>\n",
       "      <td>1.000000</td>\n",
       "      <td>-0.378763</td>\n",
       "      <td>-0.094708</td>\n",
       "      <td>0.004003</td>\n",
       "    </tr>\n",
       "    <tr>\n",
       "      <th>affiliate</th>\n",
       "      <td>-0.567837</td>\n",
       "      <td>-0.378763</td>\n",
       "      <td>1.000000</td>\n",
       "      <td>-0.011317</td>\n",
       "      <td>-0.011824</td>\n",
       "    </tr>\n",
       "    <tr>\n",
       "      <th>social</th>\n",
       "      <td>-0.175666</td>\n",
       "      <td>-0.094708</td>\n",
       "      <td>-0.011317</td>\n",
       "      <td>1.000000</td>\n",
       "      <td>-0.006972</td>\n",
       "    </tr>\n",
       "    <tr>\n",
       "      <th>is_tv_campaign</th>\n",
       "      <td>0.011704</td>\n",
       "      <td>0.004003</td>\n",
       "      <td>-0.011824</td>\n",
       "      <td>-0.006972</td>\n",
       "      <td>1.000000</td>\n",
       "    </tr>\n",
       "  </tbody>\n",
       "</table>\n",
       "</div>"
      ],
      "text/plain": [
       "                     cpc   organic  affiliate    social  is_tv_campaign\n",
       "cpc             1.000000 -0.001533  -0.567837 -0.175666        0.011704\n",
       "organic        -0.001533  1.000000  -0.378763 -0.094708        0.004003\n",
       "affiliate      -0.567837 -0.378763   1.000000 -0.011317       -0.011824\n",
       "social         -0.175666 -0.094708  -0.011317  1.000000       -0.006972\n",
       "is_tv_campaign  0.011704  0.004003  -0.011824 -0.006972        1.000000"
      ]
     },
     "execution_count": 9,
     "metadata": {},
     "output_type": "execute_result"
    }
   ],
   "source": [
    "#Check if there are correlations\n",
    "df.corr()"
   ]
  },
  {
   "cell_type": "markdown",
   "metadata": {},
   "source": [
    "<a id='channels_overview'></a>\n",
    "### Part I: Channels overview\n",
    "Overview of the channels and how they contribute to user acquisition."
   ]
  },
  {
   "cell_type": "code",
   "execution_count": 10,
   "metadata": {},
   "outputs": [
    {
     "data": {
      "text/plain": [
       "affiliate    0.7794\n",
       "social       0.5970\n",
       "cpc          0.3316\n",
       "organic      0.1038\n",
       "dtype: float64"
      ]
     },
     "execution_count": 10,
     "metadata": {},
     "output_type": "execute_result"
    }
   ],
   "source": [
    "# Calculate percentage of users that visited each channel\n",
    "df[['cpc','organic','affiliate','social']].mean().sort_values(ascending=False)"
   ]
  },
  {
   "cell_type": "code",
   "execution_count": 11,
   "metadata": {},
   "outputs": [
    {
     "data": {
      "image/png": "[encoded data removed]",
      "text/plain": [
       "<Figure size 432x288 with 1 Axes>"
      ]
     },
     "metadata": {
      "needs_background": "light"
     },
     "output_type": "display_data"
    }
   ],
   "source": [
    "# Visualize nr of users over time for each channel including the campaign dates marked\n",
    "df.groupby(['signup_date']).sum().affiliate.plot(kind='line',label = 'Affiliate', color = 'darkblue', alpha = 1)\n",
    "df.groupby(['signup_date']).sum().social.plot(kind='line',label = 'Social', color = 'darkgreen', alpha = 1)\n",
    "df.groupby(['signup_date']).sum().cpc.plot(kind='line',label = 'CPC', color = 'darkblue', alpha = .5)\n",
    "df.groupby(['signup_date']).sum().organic.plot(kind='line',label = 'Organic', color = 'darkgreen', alpha = .5)\n",
    "plt.legend()\n",
    "plt.title(\"Channels overview\",fontsize=14)\n",
    "plt.xlabel('Signup date', fontsize=10)\n",
    "plt.ylabel('# Users', fontsize=10)\n",
    "plt.axvline(x='2017-01-24', color = 'gray',linestyle='--')\n",
    "plt.axvline(x='2017-02-26', color = 'gray',linestyle='--')\n",
    "plt.axvline(x='2017-03-26', color = 'gray',linestyle='--')\n",
    "plt.axvline(x='2017-03-05', color = 'gray',linestyle='--')\n",
    "plt.axvline(x='2017-01-01', color = 'gray',linestyle='--')\n",
    "plt.axvline(x='2017-02-26', color = 'gray',linestyle='--')\n",
    "plt.axvline(x='2017-02-08', color = 'gray',linestyle='--')\n",
    "plt.axvline(x='2017-02-09', color = 'gray',linestyle='--');\n"
   ]
  },
  {
   "cell_type": "code",
   "execution_count": 12,
   "metadata": {},
   "outputs": [
    {
     "data": {
      "image/png": "[encoded data removed]",
      "text/plain": [
       "<Figure size 432x288 with 1 Axes>"
      ]
     },
     "metadata": {
      "needs_background": "light"
     },
     "output_type": "display_data"
    }
   ],
   "source": [
    "# Normalize the data with a 7 days moving averge to see better see the trend line\n",
    "df.groupby(['signup_date']).mean().affiliate.rolling(window=7).mean().plot(kind='line',label = 'Affiliate',color = 'darkblue', alpha = 1)\n",
    "df.groupby(['signup_date']).mean().social.rolling(window=7).mean().plot(kind='line',label = 'Social',color = 'darkgreen', alpha = 1)\n",
    "df.groupby(['signup_date']).mean().cpc.rolling(window=7).mean().plot(kind='line',label = 'CPC',color = 'darkblue', alpha = .5)\n",
    "df.groupby(['signup_date']).mean().organic.rolling(window=7).mean().plot(kind='line',label = 'Organic',color = 'darkgreen', alpha = .5)\n",
    "plt.legend()\n",
    "plt.title(\"Channels overview\",fontsize=14)\n",
    "plt.xlabel('Signup date', fontsize=10)\n",
    "plt.ylabel('% Acquired', fontsize=10);"
   ]
  },
  {
   "cell_type": "markdown",
   "metadata": {},
   "source": [
    "From the mean and visualisations we can clearly see that affiliate and social channel are the most visited by users before signing up. As expected, organic search has the lowest number of users. We can observe that the marketing campaigns are all occuring during days with high spikes, however there are also days without campaign that show a higher number of visitors, this might be influence by the day of the week or other seasonality factors."
   ]
  },
  {
   "cell_type": "markdown",
   "metadata": {},
   "source": [
    "<a id='tv_spending'></a>\n",
    "### Part II: TV spending impact\n",
    "\n",
    "Estimating the impact of doubling TV spending by using linear regression to compare the increase in number of users acquired between days with tv campaigns and days without tv campaigns."
   ]
  },
  {
   "cell_type": "code",
   "execution_count": 13,
   "metadata": {
    "scrolled": true
   },
   "outputs": [],
   "source": [
    "# Create new dataframe with only the signup date, count number \n",
    "# of users and if on that day a campaign ran or not\n",
    "df_tv = df.groupby(['signup_date', 'is_tv_campaign']).count()[['userid']]"
   ]
  },
  {
   "cell_type": "code",
   "execution_count": 14,
   "metadata": {},
   "outputs": [],
   "source": [
    "# Add index to the new dataframe\n",
    "df_tv.reset_index(inplace=True)"
   ]
  },
  {
   "cell_type": "code",
   "execution_count": 15,
   "metadata": {},
   "outputs": [
    {
     "data": {
      "text/html": [
       "<div>\n",
       "<style scoped>\n",
       "    .dataframe tbody tr th:only-of-type {\n",
       "        vertical-align: middle;\n",
       "    }\n",
       "\n",
       "    .dataframe tbody tr th {\n",
       "        vertical-align: top;\n",
       "    }\n",
       "\n",
       "    .dataframe thead th {\n",
       "        text-align: right;\n",
       "    }\n",
       "</style>\n",
       "<table border=\"1\" class=\"dataframe\">\n",
       "  <thead>\n",
       "    <tr style=\"text-align: right;\">\n",
       "      <th></th>\n",
       "      <th>signup_date</th>\n",
       "      <th>is_tv_campaign</th>\n",
       "      <th>userid</th>\n",
       "    </tr>\n",
       "  </thead>\n",
       "  <tbody>\n",
       "    <tr>\n",
       "      <th>0</th>\n",
       "      <td>2017-01-01</td>\n",
       "      <td>1</td>\n",
       "      <td>67</td>\n",
       "    </tr>\n",
       "    <tr>\n",
       "      <th>1</th>\n",
       "      <td>2017-01-02</td>\n",
       "      <td>0</td>\n",
       "      <td>56</td>\n",
       "    </tr>\n",
       "    <tr>\n",
       "      <th>2</th>\n",
       "      <td>2017-01-03</td>\n",
       "      <td>0</td>\n",
       "      <td>47</td>\n",
       "    </tr>\n",
       "    <tr>\n",
       "      <th>3</th>\n",
       "      <td>2017-01-04</td>\n",
       "      <td>0</td>\n",
       "      <td>54</td>\n",
       "    </tr>\n",
       "    <tr>\n",
       "      <th>4</th>\n",
       "      <td>2017-01-05</td>\n",
       "      <td>0</td>\n",
       "      <td>50</td>\n",
       "    </tr>\n",
       "  </tbody>\n",
       "</table>\n",
       "</div>"
      ],
      "text/plain": [
       "  signup_date  is_tv_campaign  userid\n",
       "0  2017-01-01               1      67\n",
       "1  2017-01-02               0      56\n",
       "2  2017-01-03               0      47\n",
       "3  2017-01-04               0      54\n",
       "4  2017-01-05               0      50"
      ]
     },
     "execution_count": 15,
     "metadata": {},
     "output_type": "execute_result"
    }
   ],
   "source": [
    "df_tv.head()"
   ]
  },
  {
   "cell_type": "code",
   "execution_count": 16,
   "metadata": {
    "scrolled": false
   },
   "outputs": [
    {
     "data": {
      "image/png": "[encoded data removed]",
      "text/plain": [
       "<Figure size 432x288 with 1 Axes>"
      ]
     },
     "metadata": {
      "needs_background": "light"
     },
     "output_type": "display_data"
    }
   ],
   "source": [
    "# Check distribution of nr of users between campaign days and no campaign days\n",
    "plt.plot( 'userid', 'is_tv_campaign', data=df_tv, linestyle='none', marker='o', color = 'darkblue', alpha=.5)\n",
    "plt.title(\"Users/Day distribution\",fontsize=14)\n",
    "plt.xlabel('# Users / Day', fontsize=10)\n",
    "plt.ylabel('TV campaign', fontsize=10);"
   ]
  },
  {
   "cell_type": "code",
   "execution_count": 17,
   "metadata": {},
   "outputs": [
    {
     "data": {
      "image/png": "[encoded data removed]",
      "text/plain": [
       "<Figure size 432x288 with 1 Axes>"
      ]
     },
     "metadata": {
      "needs_background": "light"
     },
     "output_type": "display_data"
    }
   ],
   "source": [
    "colors = ['blue','green']\n",
    "label='First Line'\n",
    "df_new=df_tv.groupby('is_tv_campaign')['userid'].mean()\n",
    "df_new.plot(kind='bar',title='Avg. #users: No TV vs TV',color=colors, alpha=.5)\n",
    "plt.xlabel('No TV / TV Campaign', fontsize=12)\n",
    "plt.ylabel('Avg. #users', fontsize=12);"
   ]
  },
  {
   "cell_type": "code",
   "execution_count": 18,
   "metadata": {},
   "outputs": [
    {
     "data": {
      "text/plain": [
       "-0.2823033707865168"
      ]
     },
     "execution_count": 18,
     "metadata": {},
     "output_type": "execute_result"
    }
   ],
   "source": [
    "# Calculate % difference between the average number of users acuired in days with campaign and without campaign\n",
    "1-df_tv.query('is_tv_campaign==\"1\"').userid.mean() / df_tv.query('is_tv_campaign==\"0\"').userid.mean()"
   ]
  },
  {
   "cell_type": "code",
   "execution_count": 19,
   "metadata": {},
   "outputs": [],
   "source": [
    "# Add index to the new dataframe\n",
    "df_tv.reset_index(inplace=True)"
   ]
  },
  {
   "cell_type": "code",
   "execution_count": 20,
   "metadata": {},
   "outputs": [
    {
     "name": "stderr",
     "output_type": "stream",
     "text": [
      "/Users/delia.amarandei/Documents/python/udacity_data_analyst/venv/lib/python3.7/site-packages/numpy/core/fromnumeric.py:2389: FutureWarning: Method .ptp is deprecated and will be removed in a future version. Use numpy.ptp instead.\n",
      "  return ptp(axis=axis, out=out, **kwargs)\n"
     ]
    },
    {
     "data": {
      "text/html": [
       "<table class=\"simpletable\">\n",
       "<caption>OLS Regression Results</caption>\n",
       "<tr>\n",
       "  <th>Dep. Variable:</th>         <td>userid</td>      <th>  R-squared:         </th> <td>   0.299</td>\n",
       "</tr>\n",
       "<tr>\n",
       "  <th>Model:</th>                   <td>OLS</td>       <th>  Adj. R-squared:    </th> <td>   0.291</td>\n",
       "</tr>\n",
       "<tr>\n",
       "  <th>Method:</th>             <td>Least Squares</td>  <th>  F-statistic:       </th> <td>   37.88</td>\n",
       "</tr>\n",
       "<tr>\n",
       "  <th>Date:</th>             <td>Wed, 15 May 2019</td> <th>  Prob (F-statistic):</th> <td>2.11e-08</td>\n",
       "</tr>\n",
       "<tr>\n",
       "  <th>Time:</th>                 <td>21:20:24</td>     <th>  Log-Likelihood:    </th> <td> -300.42</td>\n",
       "</tr>\n",
       "<tr>\n",
       "  <th>No. Observations:</th>      <td>    91</td>      <th>  AIC:               </th> <td>   604.8</td>\n",
       "</tr>\n",
       "<tr>\n",
       "  <th>Df Residuals:</th>          <td>    89</td>      <th>  BIC:               </th> <td>   609.9</td>\n",
       "</tr>\n",
       "<tr>\n",
       "  <th>Df Model:</th>              <td>     1</td>      <th>                     </th>     <td> </td>   \n",
       "</tr>\n",
       "<tr>\n",
       "  <th>Covariance Type:</th>      <td>nonrobust</td>    <th>                     </th>     <td> </td>   \n",
       "</tr>\n",
       "</table>\n",
       "<table class=\"simpletable\">\n",
       "<tr>\n",
       "         <td></td>           <th>coef</th>     <th>std err</th>      <th>t</th>      <th>P>|t|</th>  <th>[0.025</th>    <th>0.975]</th>  \n",
       "</tr>\n",
       "<tr>\n",
       "  <th>const</th>          <td>   53.6145</td> <td>    0.729</td> <td>   73.532</td> <td> 0.000</td> <td>   52.166</td> <td>   55.063</td>\n",
       "</tr>\n",
       "<tr>\n",
       "  <th>is_tv_campaign</th> <td>   15.1355</td> <td>    2.459</td> <td>    6.155</td> <td> 0.000</td> <td>   10.249</td> <td>   20.022</td>\n",
       "</tr>\n",
       "</table>\n",
       "<table class=\"simpletable\">\n",
       "<tr>\n",
       "  <th>Omnibus:</th>       <td> 6.883</td> <th>  Durbin-Watson:     </th> <td>   2.027</td>\n",
       "</tr>\n",
       "<tr>\n",
       "  <th>Prob(Omnibus):</th> <td> 0.032</td> <th>  Jarque-Bera (JB):  </th> <td>  12.340</td>\n",
       "</tr>\n",
       "<tr>\n",
       "  <th>Skew:</th>          <td> 0.051</td> <th>  Prob(JB):          </th> <td> 0.00209</td>\n",
       "</tr>\n",
       "<tr>\n",
       "  <th>Kurtosis:</th>      <td> 4.801</td> <th>  Cond. No.          </th> <td>    3.56</td>\n",
       "</tr>\n",
       "</table><br/><br/>Warnings:<br/>[1] Standard Errors assume that the covariance matrix of the errors is correctly specified."
      ],
      "text/plain": [
       "<class 'statsmodels.iolib.summary.Summary'>\n",
       "\"\"\"\n",
       "                            OLS Regression Results                            \n",
       "==============================================================================\n",
       "Dep. Variable:                 userid   R-squared:                       0.299\n",
       "Model:                            OLS   Adj. R-squared:                  0.291\n",
       "Method:                 Least Squares   F-statistic:                     37.88\n",
       "Date:                Wed, 15 May 2019   Prob (F-statistic):           2.11e-08\n",
       "Time:                        21:20:24   Log-Likelihood:                -300.42\n",
       "No. Observations:                  91   AIC:                             604.8\n",
       "Df Residuals:                      89   BIC:                             609.9\n",
       "Df Model:                           1                                         \n",
       "Covariance Type:            nonrobust                                         \n",
       "==================================================================================\n",
       "                     coef    std err          t      P>|t|      [0.025      0.975]\n",
       "----------------------------------------------------------------------------------\n",
       "const             53.6145      0.729     73.532      0.000      52.166      55.063\n",
       "is_tv_campaign    15.1355      2.459      6.155      0.000      10.249      20.022\n",
       "==============================================================================\n",
       "Omnibus:                        6.883   Durbin-Watson:                   2.027\n",
       "Prob(Omnibus):                  0.032   Jarque-Bera (JB):               12.340\n",
       "Skew:                           0.051   Prob(JB):                      0.00209\n",
       "Kurtosis:                       4.801   Cond. No.                         3.56\n",
       "==============================================================================\n",
       "\n",
       "Warnings:\n",
       "[1] Standard Errors assume that the covariance matrix of the errors is correctly specified.\n",
       "\"\"\""
      ]
     },
     "execution_count": 20,
     "metadata": {},
     "output_type": "execute_result"
    }
   ],
   "source": [
    "# Define variables and fit linear regression model\n",
    "X = df_tv['is_tv_campaign']\n",
    "Y = df_tv['userid']\n",
    "X = sm.add_constant(X)\n",
    "lm = sm.OLS(Y,X).fit()\n",
    "lm.summary()"
   ]
  },
  {
   "cell_type": "markdown",
   "metadata": {},
   "source": [
    "From the linear regression model we observe that on average, for most of the days with no tv campaigns running we have between 52.166 and 55.063 acquired users, while on days when tv campaigns were running we will have between 10.249 and 20.022 users more. \n",
    "With a 28% increase on average we can assume that doubling the tv campaign spending would double also the additional suers acquired, so 15 * 8 = 120 additional signed up users on average, with potential to increase them to a maximum of 20 * 8 = 160 users."
   ]
  },
  {
   "cell_type": "markdown",
   "metadata": {},
   "source": [
    "<a id='budget_allocation'></a>\n",
    "### Part III: Budget allocation\n",
    "\n",
    "As our data is per distinct user it does not include the sequence of the different channels touchpoint, only which ones were accessed before converting, so singining up in this case. \n",
    "\n",
    "From the Multi-Channel Attribution Model we will use the Linear attribution model, where each touchpoint in the conversion path (in this case the cpc, affiliate and social) would share equal credit for the user acquisition, so the costs will be equally distributed for each signed up user, depending on the channels they accessed. I excluded organic channel from the cost distribution as we assume that in this case no SEO company is hired.\n",
    "\n",
    "For the budget allocation we could calculate this with Markov chains, which is a process which maps the movement and gives a probability distribution, for moving from one channel to another. For this, however, we need to know the order of the channels accessed and we need also to have the negative data, the cases when the users do not signup. So this model can't be applied here.\n",
    "\n",
    "If we had in the sample also information about users who didn't signed up we could apply logistic regression to model interactions between the channels and this way identify how effective each channel is and therefor split budget according to this."
   ]
  },
  {
   "cell_type": "code",
   "execution_count": 21,
   "metadata": {
    "scrolled": true
   },
   "outputs": [
    {
     "data": {
      "text/plain": [
       "cpc  organic  affiliate  social\n",
       "0    0        1          1         2013\n",
       "                         0          981\n",
       "1    0        1          0          499\n",
       "              0          1          494\n",
       "                         0          255\n",
       "              1          1          239\n",
       "0    1        0          1          122\n",
       "1    1        0          0          117\n",
       "0    1        1          0          102\n",
       "                         1           63\n",
       "              0          0           61\n",
       "1    1        0          1           54\n",
       "Name: userid, dtype: int64"
      ]
     },
     "execution_count": 21,
     "metadata": {},
     "output_type": "execute_result"
    }
   ],
   "source": [
    "# Identify most efficient channel combinations\n",
    "df_new=df.groupby(['cpc','organic','affiliate','social']).count().userid.sort_values(ascending=False)\n",
    "df_new.head(15)"
   ]
  },
  {
   "cell_type": "markdown",
   "metadata": {},
   "source": [
    "<a id='conclusions'></a>\n",
    "### Conclusions\n",
    "\n",
    "From the analysis conducted we identified that most users that signed up went through affiliate and social channels.\n",
    "\n",
    "We identified also that doubling the tv campaign could increase the number of users with up to 20 more per day, so this would definitely be a way to attract more users, however here we would need to consider also other factors such as the campaign costs and the revenue uplift we have after running the campaigns.\n",
    "\n",
    "From the Multi-Channel Attribution Model we will use the Linear attribution model, where each touchpoint in the conversion path (in this case the cpc, affiliate and social) would share equal credit for the user acquisition, so the costs will be equally distributed for each signed up user, depending on the channels they accessed. I excluded organic channel from the cost distribution as we assume that in this case no SEO company is hired.\n",
    "\n",
    "Regarding further allocating the budget in order to maximize user acquisition, since we do not have enough data to correctly split it between the channels it would be better to keep it as previously distributed, in order to avoid making a costly mistake."
   ]
  },
  {
   "cell_type": "markdown",
   "metadata": {},
   "source": [
    "### Resources\n",
    "[Multi channel attribution model with R part I](https://towardsdatascience.com/multi-channel-attribution-model-with-r-part-1-markov-chains-concept-fdd964017626)<br><br>\n",
    "[Multi channel atrribution model with R part II](https://analyzecore.com/2017/05/31/marketing-multi-channel-attribution-model-r-part-2-practical-issues/)<br><br>\n",
    "[A Beginner’s Guide to Channel Attribution Modeling in Marketing (using Markov Chains, with a case study in R)](https://www.analyticsvidhya.com/blog/2018/01/channel-attribution-modeling-using-markov-chains-in-r/)"
   ]
  }
 ],
 "metadata": {
  "kernelspec": {
   "display_name": "Python 3",
   "language": "python",
   "name": "python3"
  },
  "language_info": {
   "codemirror_mode": {
    "name": "ipython",
    "version": 3
   },
   "file_extension": ".py",
   "mimetype": "text/x-python",
   "name": "python",
   "nbconvert_exporter": "python",
   "pygments_lexer": "ipython3",
   "version": "3.7.2"
  }
 },
 "nbformat": 4,
 "nbformat_minor": 2
}
